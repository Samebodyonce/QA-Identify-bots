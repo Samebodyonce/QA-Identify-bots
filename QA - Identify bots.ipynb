{
 "cells": [
  {
   "cell_type": "code",
   "execution_count": 1,
   "id": "9c4fbafe",
   "metadata": {},
   "outputs": [],
   "source": [
    "import pandas as pd"
   ]
  },
  {
   "cell_type": "code",
   "execution_count": 2,
   "id": "992ad53a",
   "metadata": {},
   "outputs": [],
   "source": [
    "df = pd.read_csv(\"nlp-challenge.csv\")"
   ]
  },
  {
   "cell_type": "code",
   "execution_count": 3,
   "id": "d3106ef3",
   "metadata": {},
   "outputs": [
    {
     "data": {
      "text/html": [
       "<div>\n",
       "<style scoped>\n",
       "    .dataframe tbody tr th:only-of-type {\n",
       "        vertical-align: middle;\n",
       "    }\n",
       "\n",
       "    .dataframe tbody tr th {\n",
       "        vertical-align: top;\n",
       "    }\n",
       "\n",
       "    .dataframe thead th {\n",
       "        text-align: right;\n",
       "    }\n",
       "</style>\n",
       "<table border=\"1\" class=\"dataframe\">\n",
       "  <thead>\n",
       "    <tr style=\"text-align: right;\">\n",
       "      <th></th>\n",
       "      <th>Annotator ID</th>\n",
       "      <th>Text</th>\n",
       "      <th>Answer</th>\n",
       "    </tr>\n",
       "  </thead>\n",
       "  <tbody>\n",
       "    <tr>\n",
       "      <th>0</th>\n",
       "      <td>A1MG8KNVSVZ365</td>\n",
       "      <td>@cz_binance Thanks for being upfront about thi...</td>\n",
       "      <td>True</td>\n",
       "    </tr>\n",
       "    <tr>\n",
       "      <th>1</th>\n",
       "      <td>A3OCJJMRKAIJZA</td>\n",
       "      <td>@cz_binance Thanks for being upfront about thi...</td>\n",
       "      <td>True</td>\n",
       "    </tr>\n",
       "    <tr>\n",
       "      <th>2</th>\n",
       "      <td>AQIP3DSYXEXX5</td>\n",
       "      <td>@cz_binance Thanks for being upfront about thi...</td>\n",
       "      <td>True</td>\n",
       "    </tr>\n",
       "    <tr>\n",
       "      <th>3</th>\n",
       "      <td>A1MG8KNVSVZ365</td>\n",
       "      <td>@cz_binance The speed with which Binance has r...</td>\n",
       "      <td>False</td>\n",
       "    </tr>\n",
       "    <tr>\n",
       "      <th>4</th>\n",
       "      <td>A3MV3PT4TOO69P</td>\n",
       "      <td>@cz_binance The speed with which Binance has r...</td>\n",
       "      <td>True</td>\n",
       "    </tr>\n",
       "  </tbody>\n",
       "</table>\n",
       "</div>"
      ],
      "text/plain": [
       "     Annotator ID                                               Text  Answer\n",
       "0  A1MG8KNVSVZ365  @cz_binance Thanks for being upfront about thi...    True\n",
       "1  A3OCJJMRKAIJZA  @cz_binance Thanks for being upfront about thi...    True\n",
       "2   AQIP3DSYXEXX5  @cz_binance Thanks for being upfront about thi...    True\n",
       "3  A1MG8KNVSVZ365  @cz_binance The speed with which Binance has r...   False\n",
       "4  A3MV3PT4TOO69P  @cz_binance The speed with which Binance has r...    True"
      ]
     },
     "execution_count": 3,
     "metadata": {},
     "output_type": "execute_result"
    }
   ],
   "source": [
    "df.head()"
   ]
  },
  {
   "cell_type": "code",
   "execution_count": 4,
   "id": "80598f29",
   "metadata": {},
   "outputs": [
    {
     "data": {
      "text/plain": [
       "\"@cz_binance Thanks for being upfront about this CZ. Your fans still believe in you. Plug the holes that need to be plugged. You'll be fine. Good luck.\""
      ]
     },
     "execution_count": 4,
     "metadata": {},
     "output_type": "execute_result"
    }
   ],
   "source": [
    "df.Text[0]"
   ]
  },
  {
   "cell_type": "code",
   "execution_count": 5,
   "id": "43995e10",
   "metadata": {},
   "outputs": [
    {
     "name": "stdout",
     "output_type": "stream",
     "text": [
      "<class 'pandas.core.frame.DataFrame'>\n",
      "RangeIndex: 36417 entries, 0 to 36416\n",
      "Data columns (total 3 columns):\n",
      " #   Column        Non-Null Count  Dtype \n",
      "---  ------        --------------  ----- \n",
      " 0   Annotator ID  36417 non-null  object\n",
      " 1   Text          36417 non-null  object\n",
      " 2   Answer        36417 non-null  bool  \n",
      "dtypes: bool(1), object(2)\n",
      "memory usage: 604.7+ KB\n"
     ]
    }
   ],
   "source": [
    "df.info()"
   ]
  },
  {
   "cell_type": "code",
   "execution_count": 8,
   "id": "d822a5a8",
   "metadata": {},
   "outputs": [
    {
     "data": {
      "text/html": [
       "<div>\n",
       "<style scoped>\n",
       "    .dataframe tbody tr th:only-of-type {\n",
       "        vertical-align: middle;\n",
       "    }\n",
       "\n",
       "    .dataframe tbody tr th {\n",
       "        vertical-align: top;\n",
       "    }\n",
       "\n",
       "    .dataframe thead th {\n",
       "        text-align: right;\n",
       "    }\n",
       "</style>\n",
       "<table border=\"1\" class=\"dataframe\">\n",
       "  <thead>\n",
       "    <tr style=\"text-align: right;\">\n",
       "      <th></th>\n",
       "      <th>Annotator ID</th>\n",
       "      <th>Text</th>\n",
       "      <th>Answer</th>\n",
       "    </tr>\n",
       "  </thead>\n",
       "  <tbody>\n",
       "    <tr>\n",
       "      <th>count</th>\n",
       "      <td>36417</td>\n",
       "      <td>36417</td>\n",
       "      <td>36417</td>\n",
       "    </tr>\n",
       "    <tr>\n",
       "      <th>unique</th>\n",
       "      <td>52</td>\n",
       "      <td>12137</td>\n",
       "      <td>2</td>\n",
       "    </tr>\n",
       "    <tr>\n",
       "      <th>top</th>\n",
       "      <td>A3MV3PT4TOO69P</td>\n",
       "      <td>@kucoincom  Ummmmm Did you guys get hacked? Th...</td>\n",
       "      <td>True</td>\n",
       "    </tr>\n",
       "    <tr>\n",
       "      <th>freq</th>\n",
       "      <td>5126</td>\n",
       "      <td>4</td>\n",
       "      <td>19783</td>\n",
       "    </tr>\n",
       "  </tbody>\n",
       "</table>\n",
       "</div>"
      ],
      "text/plain": [
       "          Annotator ID                                               Text  \\\n",
       "count            36417                                              36417   \n",
       "unique              52                                              12137   \n",
       "top     A3MV3PT4TOO69P  @kucoincom  Ummmmm Did you guys get hacked? Th...   \n",
       "freq              5126                                                  4   \n",
       "\n",
       "       Answer  \n",
       "count   36417  \n",
       "unique      2  \n",
       "top      True  \n",
       "freq    19783  "
      ]
     },
     "execution_count": 8,
     "metadata": {},
     "output_type": "execute_result"
    }
   ],
   "source": [
    "df.describe()"
   ]
  },
  {
   "cell_type": "code",
   "execution_count": 9,
   "id": "67b429e4",
   "metadata": {},
   "outputs": [],
   "source": [
    "df['Answer'] = df['Answer'].astype(int)"
   ]
  },
  {
   "cell_type": "code",
   "execution_count": 10,
   "id": "22ee73a5",
   "metadata": {},
   "outputs": [
    {
     "data": {
      "text/html": [
       "<div>\n",
       "<style scoped>\n",
       "    .dataframe tbody tr th:only-of-type {\n",
       "        vertical-align: middle;\n",
       "    }\n",
       "\n",
       "    .dataframe tbody tr th {\n",
       "        vertical-align: top;\n",
       "    }\n",
       "\n",
       "    .dataframe thead th {\n",
       "        text-align: right;\n",
       "    }\n",
       "</style>\n",
       "<table border=\"1\" class=\"dataframe\">\n",
       "  <thead>\n",
       "    <tr style=\"text-align: right;\">\n",
       "      <th></th>\n",
       "      <th>Annotator ID</th>\n",
       "      <th>Text</th>\n",
       "      <th>Answer</th>\n",
       "    </tr>\n",
       "  </thead>\n",
       "  <tbody>\n",
       "    <tr>\n",
       "      <th>0</th>\n",
       "      <td>A1MG8KNVSVZ365</td>\n",
       "      <td>@cz_binance Thanks for being upfront about thi...</td>\n",
       "      <td>1</td>\n",
       "    </tr>\n",
       "    <tr>\n",
       "      <th>1</th>\n",
       "      <td>A3OCJJMRKAIJZA</td>\n",
       "      <td>@cz_binance Thanks for being upfront about thi...</td>\n",
       "      <td>1</td>\n",
       "    </tr>\n",
       "    <tr>\n",
       "      <th>2</th>\n",
       "      <td>AQIP3DSYXEXX5</td>\n",
       "      <td>@cz_binance Thanks for being upfront about thi...</td>\n",
       "      <td>1</td>\n",
       "    </tr>\n",
       "    <tr>\n",
       "      <th>3</th>\n",
       "      <td>A1MG8KNVSVZ365</td>\n",
       "      <td>@cz_binance The speed with which Binance has r...</td>\n",
       "      <td>0</td>\n",
       "    </tr>\n",
       "    <tr>\n",
       "      <th>4</th>\n",
       "      <td>A3MV3PT4TOO69P</td>\n",
       "      <td>@cz_binance The speed with which Binance has r...</td>\n",
       "      <td>1</td>\n",
       "    </tr>\n",
       "  </tbody>\n",
       "</table>\n",
       "</div>"
      ],
      "text/plain": [
       "     Annotator ID                                               Text  Answer\n",
       "0  A1MG8KNVSVZ365  @cz_binance Thanks for being upfront about thi...       1\n",
       "1  A3OCJJMRKAIJZA  @cz_binance Thanks for being upfront about thi...       1\n",
       "2   AQIP3DSYXEXX5  @cz_binance Thanks for being upfront about thi...       1\n",
       "3  A1MG8KNVSVZ365  @cz_binance The speed with which Binance has r...       0\n",
       "4  A3MV3PT4TOO69P  @cz_binance The speed with which Binance has r...       1"
      ]
     },
     "execution_count": 10,
     "metadata": {},
     "output_type": "execute_result"
    }
   ],
   "source": [
    "df.head()"
   ]
  },
  {
   "cell_type": "code",
   "execution_count": 11,
   "id": "1e06ee81",
   "metadata": {},
   "outputs": [],
   "source": [
    "answer_freq = df.groupby('Annotator ID')['Answer'].mean()"
   ]
  },
  {
   "cell_type": "code",
   "execution_count": 13,
   "id": "ba984931",
   "metadata": {},
   "outputs": [
    {
     "data": {
      "text/plain": [
       "Annotator ID\n",
       "A16184N1RO5OJV    0.647059\n",
       "A198H320N5MSXX    0.500000\n",
       "A19X8IA9EKC3XH    0.995338\n",
       "A1DP551UV06FN6    0.358974\n",
       "A1G187YBG0DVMQ    0.666667\n",
       "A1M5BJTQIXCM33    0.201613\n",
       "A1MG8KNVSVZ365    0.542825\n",
       "A1MJVTR0PCKBWW    0.940816\n",
       "A1R0689JPSQ3OF    0.290323\n",
       "A1SN0UU3V61IIM    1.000000\n",
       "A1YSYI926BBOHW    0.559524\n",
       "A27W025UEXS1G0    1.000000\n",
       "A292TFDMNVS0TP    0.333333\n",
       "A2A78DMGLC1S0Y    0.470000\n",
       "A2CJFO19NY4T5R    0.065217\n",
       "A2GM5BW75YCKKW    0.645658\n",
       "A2GO2OXS4VM1PR    0.000000\n",
       "A2HM35CWB7IIFM    0.808219\n",
       "A2JP9IKRHNLRPI    0.333333\n",
       "A2KHLJ2F58BEZK    0.179487\n",
       "A2LU259QPV1I4V    0.396802\n",
       "A2QTL039A5VV3I    1.000000\n",
       "A2R25RH05K0B68    0.791667\n",
       "A2R28HXAEFKBPC    0.571429\n",
       "A2VQBOJJ8HD6W9    0.200000\n",
       "A2WPHVMLLEV5ZB    0.395210\n",
       "A3124SRR191UIL    0.536585\n",
       "A33B85TN97HQ33    0.567010\n",
       "A33Y36Y252Z30U    0.040404\n",
       "A3BCKNE5CWHODZ    0.781705\n",
       "A3BISMR4GI02ZG    0.257732\n",
       "A3BJX6UUSOIKFN    0.989810\n",
       "A3HYCA7N5F6DL9    0.641791\n",
       "A3MV3PT4TOO69P    0.599493\n",
       "A3OCJJMRKAIJZA    0.717457\n",
       "A9HQ3E0F2AGVO     0.026294\n",
       "AAX9LTAOIBECD     0.055556\n",
       "AC95JAUAM2L2Z     0.571429\n",
       "AD1ILDUXZHASF     0.303371\n",
       "AG36U7IOG2LAP     0.388000\n",
       "AGRYG65WJ1CKJ     0.228856\n",
       "AJQGWGESKQT4Y     0.711111\n",
       "AKQAI78JTXXC9     0.250000\n",
       "AKSJ3C5O3V9RB     1.000000\n",
       "AKSLU0C30G3JT     0.636364\n",
       "AMYURTQIMAC8T     0.156015\n",
       "AOOF0H0EIEFFQ     0.945133\n",
       "AQIP3DSYXEXX5     0.541078\n",
       "AR9AU5FY1S3RO     0.303030\n",
       "ARW1TCHCLEK1W     0.572937\n",
       "AXY0D2AMLKE2A     0.000000\n",
       "AYTH0E5PUXWX8     0.292824\n",
       "Name: Answer, dtype: float64"
      ]
     },
     "execution_count": 13,
     "metadata": {},
     "output_type": "execute_result"
    }
   ],
   "source": [
    "answer_freq"
   ]
  },
  {
   "cell_type": "code",
   "execution_count": 24,
   "id": "985a3a0b",
   "metadata": {},
   "outputs": [],
   "source": [
    "suspected_bots = answer_freq[(answer_freq > 0.95) | (answer_freq < 0.05)]"
   ]
  },
  {
   "cell_type": "code",
   "execution_count": 25,
   "id": "5e089058",
   "metadata": {},
   "outputs": [
    {
     "data": {
      "text/plain": [
       "Annotator ID\n",
       "A19X8IA9EKC3XH    0.995338\n",
       "A1SN0UU3V61IIM    1.000000\n",
       "A27W025UEXS1G0    1.000000\n",
       "A2GO2OXS4VM1PR    0.000000\n",
       "A2QTL039A5VV3I    1.000000\n",
       "A33Y36Y252Z30U    0.040404\n",
       "A3BJX6UUSOIKFN    0.989810\n",
       "A9HQ3E0F2AGVO     0.026294\n",
       "AKSJ3C5O3V9RB     1.000000\n",
       "AXY0D2AMLKE2A     0.000000\n",
       "Name: Answer, dtype: float64"
      ]
     },
     "execution_count": 25,
     "metadata": {},
     "output_type": "execute_result"
    }
   ],
   "source": [
    "suspected_bots"
   ]
  },
  {
   "cell_type": "code",
   "execution_count": null,
   "id": "3d6b7424",
   "metadata": {},
   "outputs": [],
   "source": []
  }
 ],
 "metadata": {
  "kernelspec": {
   "display_name": "Python 3 (ipykernel)",
   "language": "python",
   "name": "python3"
  },
  "language_info": {
   "codemirror_mode": {
    "name": "ipython",
    "version": 3
   },
   "file_extension": ".py",
   "mimetype": "text/x-python",
   "name": "python",
   "nbconvert_exporter": "python",
   "pygments_lexer": "ipython3",
   "version": "3.9.7"
  }
 },
 "nbformat": 4,
 "nbformat_minor": 5
}
